{
 "cells": [
  {
   "cell_type": "code",
   "execution_count": 1,
   "id": "1f4164ce",
   "metadata": {},
   "outputs": [],
   "source": [
    "a=4\n",
    "a+=2"
   ]
  },
  {
   "cell_type": "code",
   "execution_count": 3,
   "id": "c49c9f2c",
   "metadata": {},
   "outputs": [
    {
     "data": {
      "text/plain": [
       "10"
      ]
     },
     "execution_count": 3,
     "metadata": {},
     "output_type": "execute_result"
    }
   ],
   "source": [
    "a=2\n",
    "a = a+2\n",
    "a+=6\n",
    "a"
   ]
  },
  {
   "cell_type": "code",
   "execution_count": 4,
   "id": "c2838252",
   "metadata": {},
   "outputs": [
    {
     "data": {
      "text/plain": [
       "'3.11.5 | packaged by Anaconda, Inc. | (main, Sep 11 2023, 13:26:23) [MSC v.1916 64 bit (AMD64)]'"
      ]
     },
     "execution_count": 4,
     "metadata": {},
     "output_type": "execute_result"
    }
   ],
   "source": [
    "import sys\n",
    "sys.version"
   ]
  },
  {
   "cell_type": "code",
   "execution_count": 5,
   "id": "70032121",
   "metadata": {},
   "outputs": [
    {
     "data": {
      "text/plain": [
       "'C:\\\\Users\\\\rizwa\\\\PythonBasicsDay1 7th Dec 2023'"
      ]
     },
     "execution_count": 5,
     "metadata": {},
     "output_type": "execute_result"
    }
   ],
   "source": [
    "pwd"
   ]
  },
  {
   "cell_type": "code",
   "execution_count": 6,
   "id": "5d0fc6b5",
   "metadata": {},
   "outputs": [
    {
     "data": {
      "text/plain": [
       "True"
      ]
     },
     "execution_count": 6,
     "metadata": {},
     "output_type": "execute_result"
    }
   ],
   "source": [
    "5==5"
   ]
  },
  {
   "cell_type": "code",
   "execution_count": 8,
   "id": "4c9793c6",
   "metadata": {},
   "outputs": [],
   "source": [
    "a=b=5"
   ]
  },
  {
   "cell_type": "code",
   "execution_count": 9,
   "id": "f4b32401",
   "metadata": {},
   "outputs": [
    {
     "data": {
      "text/plain": [
       "5"
      ]
     },
     "execution_count": 9,
     "metadata": {},
     "output_type": "execute_result"
    }
   ],
   "source": [
    "a\n",
    "b"
   ]
  },
  {
   "cell_type": "code",
   "execution_count": 10,
   "id": "7d716556",
   "metadata": {},
   "outputs": [
    {
     "data": {
      "text/plain": [
       "False"
      ]
     },
     "execution_count": 10,
     "metadata": {},
     "output_type": "execute_result"
    }
   ],
   "source": [
    "5!=5"
   ]
  },
  {
   "cell_type": "code",
   "execution_count": 10,
   "id": "11a286ce",
   "metadata": {},
   "outputs": [
    {
     "name": "stdout",
     "output_type": "stream",
     "text": [
      "ENTER A NUMBER :78\n",
      "true\n"
     ]
    }
   ],
   "source": [
    "n=int(input(\"ENTER A NUMBER :\")) \n",
    "\n",
    "if n<100 :\n",
    "    print(\"true\")\n",
    "else:\n",
    "    print(\"false\")"
   ]
  },
  {
   "cell_type": "code",
   "execution_count": 6,
   "id": "2232ca44",
   "metadata": {},
   "outputs": [
    {
     "name": "stdout",
     "output_type": "stream",
     "text": [
      "Please enter a number: -23\n",
      "“Negative Number”\n"
     ]
    }
   ],
   "source": [
    "n = int(input(\"Please enter a number: \"))\n",
    " \n",
    "if n  > 0:\n",
    "     print('“Positive Number”')\n",
    "        \n",
    "elif n<0:\n",
    "     print('“Negative Number”')\n",
    "    \n",
    "else:\n",
    " \n",
    "    print('“Number is Zero”')\n",
    "    "
   ]
  },
  {
   "cell_type": "markdown",
   "id": "7bb6b5a1",
   "metadata": {},
   "source": [
    "# Looping"
   ]
  },
  {
   "cell_type": "code",
   "execution_count": 9,
   "id": "5ee6c84f",
   "metadata": {},
   "outputs": [
    {
     "name": "stdout",
     "output_type": "stream",
     "text": [
      "1 2 3 4 5 6\n"
     ]
    }
   ],
   "source": [
    "#Print 1 to 6 \n",
    "print(1,2,3,4,5,6)"
   ]
  },
  {
   "cell_type": "code",
   "execution_count": 10,
   "id": "07011e5e",
   "metadata": {},
   "outputs": [
    {
     "name": "stdout",
     "output_type": "stream",
     "text": [
      "1\n",
      "2\n",
      "3\n",
      "4\n",
      "5\n",
      "6\n",
      "\n"
     ]
    }
   ],
   "source": [
    "print(\"1\\n2\\n3\\n4\\n5\\n6\\n\")"
   ]
  },
  {
   "cell_type": "code",
   "execution_count": 11,
   "id": "88b627a8",
   "metadata": {},
   "outputs": [
    {
     "name": "stdout",
     "output_type": "stream",
     "text": [
      "1\n",
      "2\n",
      "3\n",
      "4\n",
      "5\n",
      "6\n"
     ]
    }
   ],
   "source": [
    "print(1)\n",
    "print(2)\n",
    "print(3)\n",
    "print(4)\n",
    "print(5)\n",
    "print(6)"
   ]
  },
  {
   "cell_type": "code",
   "execution_count": 12,
   "id": "4aa7b396",
   "metadata": {},
   "outputs": [
    {
     "name": "stdout",
     "output_type": "stream",
     "text": [
      "The number in position : 2 = 2\n",
      "The number in position : 4 = 4\n",
      "The number in position : 6 = 6\n",
      "The number in position : 8 = 8\n",
      "The number in position : 10 = 10\n"
     ]
    }
   ],
   "source": [
    "# print the even numbers\n",
    "i=2\n",
    " \n",
    "while i<=10:\n",
    "    print(\"The number in position :\", i , \"=\" , i)\n",
    "    i+=2"
   ]
  },
  {
   "cell_type": "code",
   "execution_count": 13,
   "id": "e33ffffd",
   "metadata": {},
   "outputs": [
    {
     "name": "stdout",
     "output_type": "stream",
     "text": [
      "2\n",
      "4\n",
      "6\n"
     ]
    }
   ],
   "source": [
    "a = 0\n",
    "while a < 6: \n",
    "    a += 1\n",
    "    if a % 2 == 0:\n",
    "        print(a)"
   ]
  },
  {
   "cell_type": "code",
   "execution_count": 15,
   "id": "b54ab6e8",
   "metadata": {},
   "outputs": [
    {
     "name": "stdout",
     "output_type": "stream",
     "text": [
      "The number in position : 1 = 1\n",
      "The number in position : 2 = 2\n",
      "The number in position : 3 = 3\n",
      "The number in position : 4 = 4\n",
      "The number in position : 5 = 5\n",
      "The number in position : 6 = 6\n",
      "The number in position : 7 = 7\n",
      "The number in position : 8 = 8\n",
      "The number in position : 9 = 9\n",
      "The number in position : 10 = 10\n"
     ]
    }
   ],
   "source": [
    "#print the even numbers\n",
    "i=1\n",
    " \n",
    "while i<=10:\n",
    "    print(\"The number in position :\", i , \"=\" , i)\n",
    "    i=i+1"
   ]
  },
  {
   "cell_type": "code",
   "execution_count": null,
   "id": "e3555ae4",
   "metadata": {},
   "outputs": [],
   "source": [
    "i=1\n",
    "while i<=10:\n",
    "    if(i%2==0):\n",
    "        print(\"number is even\")\n",
    "else:\n",
    "        print(\"number is odd\")\n",
    "i=i+1\n",
    "     "
   ]
  },
  {
   "cell_type": "code",
   "execution_count": 2,
   "id": "5c0bf164",
   "metadata": {},
   "outputs": [
    {
     "name": "stdout",
     "output_type": "stream",
     "text": [
      " \n",
      "The number in position : 2 = 2\n",
      " \n",
      "The number in position : 4 = 4\n",
      " \n",
      "The number in position : 6 = 6\n",
      " \n",
      "The number in position : 8 = 8\n",
      " \n",
      "The number in position : 10 = 10\n"
     ]
    }
   ],
   "source": [
    "#print the even numbers using if condition \n",
    "i=1\n",
    "while i<=10:\n",
    "    if(i%2==0):\n",
    "        print(\"The number in position :\", i , \"=\" , i)\n",
    "    else:\n",
    "        print(\" \")\n",
    "    i=i+1"
   ]
  },
  {
   "cell_type": "code",
   "execution_count": 4,
   "id": "408924d4",
   "metadata": {},
   "outputs": [
    {
     "name": "stdout",
     "output_type": "stream",
     "text": [
      "enter a number:33\n",
      "number is odd\n"
     ]
    }
   ],
   "source": [
    "i=int(input(\"enter a number:\"))\n",
    " \n",
    "if(i%2==0):\n",
    "   print(\"number is even\")\n",
    "else:\n",
    "   print(\"number is odd\")\n",
    "   while i<=10:\n",
    "    i=i+1"
   ]
  },
  {
   "cell_type": "code",
   "execution_count": 5,
   "id": "0610f588",
   "metadata": {},
   "outputs": [
    {
     "name": "stdout",
     "output_type": "stream",
     "text": [
      "\n",
      "The number in position : 2 = 2\n",
      "\n",
      "The number in position : 4 = 4\n",
      "\n",
      "The number in position : 6 = 6\n",
      "\n",
      "The number in position : 8 = 8\n",
      "\n",
      "The number in position : 10 = 10\n"
     ]
    }
   ],
   "source": [
    "i=1\n",
    " \n",
    "while i<=10:\n",
    "    if(i%2==0):\n",
    "        print(\"The number in position :\", i , \"=\" , i)\n",
    "    else:\n",
    "        print()\n",
    "    i=i+1"
   ]
  },
  {
   "cell_type": "code",
   "execution_count": 2,
   "id": "1c7292f0",
   "metadata": {},
   "outputs": [
    {
     "name": "stdout",
     "output_type": "stream",
     "text": [
      "enter a number:11\n",
      "Little higher\n"
     ]
    }
   ],
   "source": [
    "i=int(input(\"enter a number:\"))\n",
    "if(i<10):\n",
    "    print(\"Little lower\")\n",
    "else:\n",
    "    print(\"Little higher\")\n",
    "    "
   ]
  },
  {
   "cell_type": "code",
   "execution_count": 17,
   "id": "72b62fd2",
   "metadata": {},
   "outputs": [
    {
     "name": "stdout",
     "output_type": "stream",
     "text": [
      "Enter your number: 12\n",
      "Number is too low, please guess again.\n",
      "Number is too low, please guess again.\n",
      "Number is too low, please guess again.\n",
      "Number is too low, please guess again.\n",
      "Number is too low, please guess again.\n",
      "Number is too low, please guess again.\n",
      "Number is too low, please guess again.\n",
      "Number is too low, please guess again.\n",
      "Number is too low, please guess again.\n",
      "Number is too low, please guess again.\n",
      "Number is too low, please guess again.\n",
      "Number is too low, please guess again.\n",
      "Number is too low, please guess again.\n",
      "Number is too low, please guess again.\n",
      "Number is too low, please guess again.\n",
      "16 is correct\n",
      "Number is too high, please guess again.\n",
      "Number is too high, please guess again.\n",
      "Number is too high, please guess again.\n"
     ]
    }
   ],
   "source": [
    "user_number = int(input(\"Enter your number: \"))\n",
    " \n",
    "for number in range(1, 20):\n",
    "    if number >= 17:\n",
    "        print(\"Number is too high, please guess again.\")\n",
    "    elif number <= 15:\n",
    "        print(\"Number is too low, please guess again.\")\n",
    "    else:\n",
    "        print(\"16 is correct\")"
   ]
  },
  {
   "cell_type": "code",
   "execution_count": 18,
   "id": "9b36d63d",
   "metadata": {},
   "outputs": [
    {
     "ename": "NameError",
     "evalue": "name 'guess' is not defined",
     "output_type": "error",
     "traceback": [
      "\u001b[1;31m---------------------------------------------------------------------------\u001b[0m",
      "\u001b[1;31mNameError\u001b[0m                                 Traceback (most recent call last)",
      "Cell \u001b[1;32mIn[18], line 3\u001b[0m\n\u001b[0;32m      1\u001b[0m i \u001b[38;5;241m=\u001b[39m \u001b[38;5;241m8\u001b[39m\n\u001b[1;32m----> 3\u001b[0m \u001b[38;5;28;01mwhile\u001b[39;00m guess \u001b[38;5;241m!=\u001b[39m i:\n\u001b[0;32m      4\u001b[0m     guess \u001b[38;5;241m=\u001b[39m \u001b[38;5;28mint\u001b[39m(\u001b[38;5;28minput\u001b[39m(\u001b[38;5;124m\"\u001b[39m\u001b[38;5;124mPlease enter a number: \u001b[39m\u001b[38;5;124m\"\u001b[39m))\n\u001b[0;32m      5\u001b[0m     \u001b[38;5;28;01mif\u001b[39;00m (guess \u001b[38;5;241m==\u001b[39m i):\n",
      "\u001b[1;31mNameError\u001b[0m: name 'guess' is not defined"
     ]
    }
   ],
   "source": [
    "i = 8\n",
    " \n",
    "while guess != i:\n",
    "    guess = int(input(\"Please enter a number: \"))\n",
    "    if (guess == i):\n",
    "         print(\"You have guess the number\", i)\n",
    "    else:\n",
    "        print(\"You guessed it wrong\")"
   ]
  },
  {
   "cell_type": "code",
   "execution_count": null,
   "id": "2966b88a",
   "metadata": {},
   "outputs": [
    {
     "name": "stdout",
     "output_type": "stream",
     "text": [
      "Guess the number:2\n",
      "Guess the number:12\n"
     ]
    }
   ],
   "source": [
    "chosen_number = 20\n",
    " \n",
    "while True:\n",
    "    n = int(input(\"Guess the number:\"))\n",
    "if n == chosen_number:\n",
    "    print(\"Congrats! you have guessed right!\")\n",
    "elif n < chosen_number:\n",
    "    print(\"Little higher! try again\")\n",
    "else:\n",
    "    print(\"Little lower! try again\")"
   ]
  },
  {
   "cell_type": "code",
   "execution_count": null,
   "id": "734ebb13",
   "metadata": {},
   "outputs": [],
   "source": [
    "n = int(input(\"Enter a number: \"))\n",
    "while n!=10:\n",
    "    if n>10:\n",
    "        print(n,\"is higher\")\n",
    "    elif n<10:\n",
    "        print(n,\"is lower\")\n",
    "    n=int(input(\"Enter different number: \"))\n",
    "print(n,\"is the correct answer\")"
   ]
  },
  {
   "cell_type": "code",
   "execution_count": 1,
   "id": "7815d14f",
   "metadata": {},
   "outputs": [
    {
     "name": "stdout",
     "output_type": "stream",
     "text": [
      "Please enter a number: 34\n",
      "You guessed it wrong\n",
      "Please enter a number: 21\n",
      "You guessed it wrong\n",
      "Please enter a number: 8\n"
     ]
    }
   ],
   "source": [
    "i = 8\n",
    "guess = int(input(\"Please enter a number: \"))\n",
    "while guess != i:\n",
    "    if (guess == i):\n",
    "         print(\"You have guessed the number\", i)\n",
    "    else:\n",
    "        print(\"You guessed it wrong\")\n",
    "        guess = int(input(\"Please enter a number: \"))"
   ]
  },
  {
   "cell_type": "code",
   "execution_count": 2,
   "id": "1e99b46c",
   "metadata": {},
   "outputs": [
    {
     "name": "stdout",
     "output_type": "stream",
     "text": [
      "Enter a number between 1-5 :3\n",
      "little higher\n",
      "Enter a number: 5\n",
      "You guessed it! The number is 5.\n"
     ]
    }
   ],
   "source": [
    "i = int(input(\"Enter a number between 1-5 :\"))\n",
    "while i != 5:\n",
    "   if i  < 5:\n",
    "       print(\"little higher\")\n",
    "       i = int(input(\"Enter a number: \"))\n",
    "   else:\n",
    "       if i > 5:\n",
    "           print(\" little lower \")\n",
    "       i = int(input(\"Enter a number: \"))\n",
    "else:\n",
    "   print(\"You guessed it! The number is 5.\")"
   ]
  },
  {
   "cell_type": "code",
   "execution_count": null,
   "id": "9268d2cf",
   "metadata": {},
   "outputs": [
    {
     "name": "stdout",
     "output_type": "stream",
     "text": [
      "enter number:10\n"
     ]
    }
   ],
   "source": [
    "user_number = int(input(\"enter number:\"))\n",
    "\n",
    "n=10\n",
    " \n",
    "while n>=10:  \n",
    "\n",
    "    if(n>10): \n",
    "\n",
    "        print(\"little lower\")\n",
    "\n",
    "else:\n",
    "\n",
    "        print(\"little higher\")"
   ]
  },
  {
   "cell_type": "code",
   "execution_count": null,
   "id": "c25d38d8",
   "metadata": {},
   "outputs": [],
   "source": [
    "import random\n",
    " \n",
    "correct_number = random.randint(1, 20)\n",
    " \n",
    "while True:\n",
    "    guess = int(input(\"Enter your guess (between 1 and 20): \"))\n",
    " \n",
    "    if guess > correct_number:\n",
    "        print(\"Number is too high, please guess again.\")\n",
    "    elif guess < correct_number:\n",
    "        print(\"Number is too low, please guess again.\")\n",
    "    else:\n",
    "        print(\"Correct! You guessed the number.\")\n",
    "        break  "
   ]
  },
  {
   "cell_type": "code",
   "execution_count": 3,
   "id": "24b4cb78",
   "metadata": {},
   "outputs": [
    {
     "name": "stdout",
     "output_type": "stream",
     "text": [
      "4\n",
      "this is the value of n after deduction 2\n",
      "3\n",
      "this is the value of n after deduction 1\n",
      "2\n",
      "this is the value of n after deduction 0\n"
     ]
    }
   ],
   "source": [
    "n=3\n",
    "while n>0:\n",
    "    print(n+1)\n",
    "    n=n-1\n",
    "    print(\"this is the value of n after deduction\",n)"
   ]
  },
  {
   "cell_type": "code",
   "execution_count": 4,
   "id": "dd68abb4",
   "metadata": {},
   "outputs": [
    {
     "name": "stdout",
     "output_type": "stream",
     "text": [
      "2 is a prime\n",
      "3 is a prime\n",
      "5 is a prime\n",
      "7 is a prime\n",
      "11 is a prime\n",
      "13 is a prime\n",
      "17 is a prime\n",
      "19 is a prime\n",
      "23 is a prime\n",
      "29 is a prime\n",
      "31 is a prime\n",
      "37 is a prime\n",
      "41 is a prime\n",
      "43 is a prime\n",
      "47 is a prime\n",
      "53 is a prime\n",
      "59 is a prime\n",
      "61 is a prime\n",
      "67 is a prime\n",
      "71 is a prime\n",
      "73 is a prime\n",
      "79 is a prime\n",
      "83 is a prime\n",
      "89 is a prime\n",
      "97 is a prime\n"
     ]
    }
   ],
   "source": [
    "for a in range (2,101):\n",
    "    prime = True\n",
    " \n",
    "    for i in range(2, a - 1):\n",
    "        if (a % i) == 0:\n",
    "            prime = False\n",
    "            break\n",
    "    if prime:\n",
    "        print(f\"{a} is a prime\")"
   ]
  },
  {
   "cell_type": "code",
   "execution_count": null,
   "id": "6f702b5e",
   "metadata": {},
   "outputs": [
    {
     "name": "stdout",
     "output_type": "stream",
     "text": [
      "Enter a number: 15\n",
      "FizzBuzz\n"
     ]
    }
   ],
   "source": [
    "n = int(input(\"Enter a number: \"))\n",
    "while (n%3)==0 or (n%5)==0:\n",
    "    if (n%15)==0:\n",
    "        print(\"FizzBuzz\")\n",
    "    elif (n%3)==0:\n",
    "        print(\"Fizz\")\n",
    "    elif (n%5)==0:\n",
    "        print(\"Buzz\")\n",
    "    n=int(input(\"Enter different number: \"))\n",
    "print(\"End game, your chosen number is: \",n)"
   ]
  },
  {
   "cell_type": "code",
   "execution_count": 1,
   "id": "f7dcaeb8",
   "metadata": {},
   "outputs": [
    {
     "name": "stdout",
     "output_type": "stream",
     "text": [
      "How many times you want to play: 3\n",
      "Enter a number: 12\n",
      "12 is higher\n",
      "Enter different number: 5\n",
      "5 is lower\n",
      "Enter different number: 3\n",
      "All your answers are not correct. Game Over!\n"
     ]
    }
   ],
   "source": [
    "i = 10\n",
    "t = int(input(\"How many times you want to play: \"))\n",
    "n = int(input(\"Enter a number: \"))\n",
    "while n!=i and t>1:\n",
    "    if n>10:\n",
    "        print(n,\"is higher\")\n",
    "    elif n<10:\n",
    "        print(n,\"is lower\")\n",
    "    n=int(input(\"Enter different number: \"))\n",
    "    t-=1\n",
    "if n==i:\n",
    "    print(n,\"is the correct answer\")\n",
    "else:\n",
    "    print(\"All your answers are not correct. Game Over!\")"
   ]
  },
  {
   "cell_type": "code",
   "execution_count": 2,
   "id": "a0845bea",
   "metadata": {},
   "outputs": [
    {
     "name": "stdout",
     "output_type": "stream",
     "text": [
      "How many times you want to play: 2\n",
      "Enter a number: 5\n",
      "5 is lower\n",
      "Enter different number: 25\n",
      "All your answers are not correct. Game Over!\n"
     ]
    }
   ],
   "source": [
    "myNumber = 10\n",
    "counter = int(input(\"How many times you want to play: \"))\n",
    "yourGuess = int(input(\"Enter a number: \"))\n",
    "while yourGuess!=myNumber and counter>1:\n",
    "    if yourGuess>myNumber:\n",
    "        print(yourGuess,\"is higher\")\n",
    "    elif yourGuess<myNumber:\n",
    "        print(yourGuess,\"is lower\")\n",
    "    yourGuess=int(input(\"Enter different number: \"))\n",
    "    counter-=1\n",
    " \n",
    "if yourGuess==myNumber:\n",
    "    print(n,\"is the correct answer\")\n",
    "else:\n",
    "    print(\"All your answers are not correct. Game Over!\")"
   ]
  }
 ],
 "metadata": {
  "kernelspec": {
   "display_name": "Python 3 (ipykernel)",
   "language": "python",
   "name": "python3"
  },
  "language_info": {
   "codemirror_mode": {
    "name": "ipython",
    "version": 3
   },
   "file_extension": ".py",
   "mimetype": "text/x-python",
   "name": "python",
   "nbconvert_exporter": "python",
   "pygments_lexer": "ipython3",
   "version": "3.11.5"
  }
 },
 "nbformat": 4,
 "nbformat_minor": 5
}
