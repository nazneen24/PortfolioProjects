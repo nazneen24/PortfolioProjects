{
 "cells": [
  {
   "cell_type": "code",
   "execution_count": 1,
   "id": "a3a0aea4",
   "metadata": {},
   "outputs": [
    {
     "data": {
      "text/plain": [
       "4"
      ]
     },
     "execution_count": 1,
     "metadata": {},
     "output_type": "execute_result"
    }
   ],
   "source": [
    "2+2"
   ]
  },
  {
   "cell_type": "code",
   "execution_count": 2,
   "id": "1a392b32",
   "metadata": {},
   "outputs": [
    {
     "data": {
      "text/plain": [
       "10"
      ]
     },
     "execution_count": 2,
     "metadata": {},
     "output_type": "execute_result"
    }
   ],
   "source": [
    "2*5"
   ]
  },
  {
   "cell_type": "code",
   "execution_count": 3,
   "id": "ed5ee2b6",
   "metadata": {},
   "outputs": [
    {
     "data": {
      "text/plain": [
       "16.0"
      ]
     },
     "execution_count": 3,
     "metadata": {},
     "output_type": "execute_result"
    }
   ],
   "source": [
    "80/5"
   ]
  },
  {
   "cell_type": "code",
   "execution_count": 4,
   "id": "3a92ba0d",
   "metadata": {},
   "outputs": [
    {
     "data": {
      "text/plain": [
       "-12"
      ]
     },
     "execution_count": 4,
     "metadata": {},
     "output_type": "execute_result"
    }
   ],
   "source": [
    "66-78"
   ]
  },
  {
   "cell_type": "markdown",
   "id": "5acf3c75",
   "metadata": {},
   "source": [
    "3+4"
   ]
  },
  {
   "cell_type": "code",
   "execution_count": 6,
   "id": "d672870f",
   "metadata": {},
   "outputs": [
    {
     "name": "stdout",
     "output_type": "stream",
     "text": [
      "<class 'float'>\n"
     ]
    }
   ],
   "source": [
    "print(type(3.5))"
   ]
  },
  {
   "cell_type": "code",
   "execution_count": 7,
   "id": "347c9a9a",
   "metadata": {},
   "outputs": [
    {
     "name": "stdout",
     "output_type": "stream",
     "text": [
      "<class 'str'>\n"
     ]
    }
   ],
   "source": [
    "print(type(\"3.5\"))"
   ]
  },
  {
   "cell_type": "code",
   "execution_count": 1,
   "id": "16651ed2",
   "metadata": {},
   "outputs": [
    {
     "name": "stdout",
     "output_type": "stream",
     "text": [
      "my name is'Nazneen'\n"
     ]
    }
   ],
   "source": [
    "print(\"my name is'Nazneen'\")"
   ]
  },
  {
   "cell_type": "code",
   "execution_count": 11,
   "id": "e96fa4cf",
   "metadata": {},
   "outputs": [
    {
     "name": "stdout",
     "output_type": "stream",
     "text": [
      "\\\n"
     ]
    }
   ],
   "source": [
    "print(\"\\\\\")"
   ]
  },
  {
   "cell_type": "code",
   "execution_count": 12,
   "id": "29b8049f",
   "metadata": {},
   "outputs": [
    {
     "name": "stdout",
     "output_type": "stream",
     "text": [
      "\"nazneen\"\n"
     ]
    }
   ],
   "source": [
    "print('\"nazneen\"')"
   ]
  },
  {
   "cell_type": "code",
   "execution_count": 14,
   "id": "bdf19e2a",
   "metadata": {},
   "outputs": [
    {
     "name": "stdout",
     "output_type": "stream",
     "text": [
      "  \"nazneen\"  \n"
     ]
    }
   ],
   "source": [
    "print(\"  \\\"nazneen\\\"  \")"
   ]
  },
  {
   "cell_type": "code",
   "execution_count": 15,
   "id": "9169e158",
   "metadata": {},
   "outputs": [],
   "source": [
    "a=2+3"
   ]
  },
  {
   "cell_type": "code",
   "execution_count": 16,
   "id": "54efdc4d",
   "metadata": {},
   "outputs": [
    {
     "data": {
      "text/plain": [
       "5"
      ]
     },
     "execution_count": 16,
     "metadata": {},
     "output_type": "execute_result"
    }
   ],
   "source": [
    "a"
   ]
  },
  {
   "cell_type": "code",
   "execution_count": 17,
   "id": "977e47b7",
   "metadata": {},
   "outputs": [],
   "source": [
    "a=a+10"
   ]
  },
  {
   "cell_type": "code",
   "execution_count": 18,
   "id": "f8cc22d5",
   "metadata": {},
   "outputs": [
    {
     "data": {
      "text/plain": [
       "15"
      ]
     },
     "execution_count": 18,
     "metadata": {},
     "output_type": "execute_result"
    }
   ],
   "source": [
    "a"
   ]
  },
  {
   "cell_type": "code",
   "execution_count": 19,
   "id": "0df2067a",
   "metadata": {},
   "outputs": [],
   "source": [
    "name=\"Nazneen\""
   ]
  },
  {
   "cell_type": "code",
   "execution_count": 22,
   "id": "ad26f01d",
   "metadata": {},
   "outputs": [
    {
     "name": "stdout",
     "output_type": "stream",
     "text": [
      "30\n"
     ]
    }
   ],
   "source": [
    "my_age=33\n",
    "your_age=30\n",
    "my_age=your_age\n",
    "print(my_age)"
   ]
  },
  {
   "cell_type": "code",
   "execution_count": 23,
   "id": "8f6a4a0a",
   "metadata": {},
   "outputs": [
    {
     "data": {
      "text/plain": [
       "0"
      ]
     },
     "execution_count": 23,
     "metadata": {},
     "output_type": "execute_result"
    }
   ],
   "source": [
    "8%2"
   ]
  },
  {
   "cell_type": "code",
   "execution_count": 24,
   "id": "f72493e1",
   "metadata": {},
   "outputs": [
    {
     "data": {
      "text/plain": [
       "10.0"
      ]
     },
     "execution_count": 24,
     "metadata": {},
     "output_type": "execute_result"
    }
   ],
   "source": [
    "100**(1/2)"
   ]
  },
  {
   "cell_type": "code",
   "execution_count": 25,
   "id": "f3600184",
   "metadata": {},
   "outputs": [
    {
     "data": {
      "text/plain": [
       "3"
      ]
     },
     "execution_count": 25,
     "metadata": {},
     "output_type": "execute_result"
    }
   ],
   "source": [
    "10//3"
   ]
  },
  {
   "cell_type": "code",
   "execution_count": 26,
   "id": "c623320a",
   "metadata": {},
   "outputs": [
    {
     "data": {
      "text/plain": [
       "2"
      ]
     },
     "execution_count": 26,
     "metadata": {},
     "output_type": "execute_result"
    }
   ],
   "source": [
    "10//4"
   ]
  },
  {
   "cell_type": "code",
   "execution_count": 28,
   "id": "ed1d7b07",
   "metadata": {},
   "outputs": [
    {
     "name": "stdout",
     "output_type": "stream",
     "text": [
      "6\n"
     ]
    }
   ],
   "source": [
    "print(30//5)"
   ]
  },
  {
   "cell_type": "code",
   "execution_count": 32,
   "id": "736cba7b",
   "metadata": {},
   "outputs": [
    {
     "name": "stdout",
     "output_type": "stream",
     "text": [
      "40\n"
     ]
    }
   ],
   "source": [
    "a=10\n",
    "b=30\n",
    "c=a+b\n",
    "print(c)"
   ]
  },
  {
   "cell_type": "code",
   "execution_count": 33,
   "id": "79a586be",
   "metadata": {},
   "outputs": [
    {
     "name": "stdout",
     "output_type": "stream",
     "text": [
      "The sum of 2323 and 46676  is :  48999\n"
     ]
    }
   ],
   "source": [
    "# Talk about the code\n",
    "# We will declare two varible to save the numbers\n",
    "num1=2323\n",
    "num2=46676\n",
    " \n",
    "# will add the numbers and save the result in a new varible\n",
    " \n",
    "sum = num1 + num2\n",
    " \n",
    "# will print the result on screen\n",
    " \n",
    "print(\"The sum of\", num1 , \"and\", num2, \" is : \" , sum)"
   ]
  },
  {
   "cell_type": "code",
   "execution_count": 34,
   "id": "20737a52",
   "metadata": {},
   "outputs": [
    {
     "data": {
      "text/plain": [
       "int"
      ]
     },
     "execution_count": 34,
     "metadata": {},
     "output_type": "execute_result"
    }
   ],
   "source": [
    "type(num1)"
   ]
  },
  {
   "cell_type": "code",
   "execution_count": 37,
   "id": "59b3e5b9",
   "metadata": {},
   "outputs": [
    {
     "name": "stdout",
     "output_type": "stream",
     "text": [
      "Nazneen\n",
      "7\n",
      "<class 'str'>\n"
     ]
    }
   ],
   "source": [
    "myName = \"Nazneen\"\n",
    "print(myName)\n",
    "print(len(myName))\n",
    "print(type(myName))"
   ]
  },
  {
   "cell_type": "code",
   "execution_count": 38,
   "id": "c046e2b6",
   "metadata": {},
   "outputs": [
    {
     "name": "stdout",
     "output_type": "stream",
     "text": [
      "kausar\n",
      "kausar\n",
      "6\n",
      "<class 'str'>\n"
     ]
    }
   ],
   "source": [
    "myName =input()\n",
    "print(myName)\n",
    "print(len(myName))\n",
    "print(type(myName))"
   ]
  },
  {
   "cell_type": "code",
   "execution_count": 42,
   "id": "caef3ee3",
   "metadata": {},
   "outputs": [
    {
     "name": "stdout",
     "output_type": "stream",
     "text": [
      "enter your first number2\n",
      "5\n",
      "The sum of 2 and 5  is :  25\n"
     ]
    }
   ],
   "source": [
    "# We will declare two varible to save the numbers\n",
    "num1=input(\"enter your first number\")\n",
    "num2=input()\n",
    " \n",
    "# will add the numbers and save the result in a new varible\n",
    " \n",
    "sum = num1 + num2\n",
    " \n",
    "# will print the result on screen\n",
    " \n",
    "print(\"The sum of\", num1 , \"and\", num2, \" is : \" , sum)"
   ]
  },
  {
   "cell_type": "code",
   "execution_count": null,
   "id": "23ca46ef",
   "metadata": {},
   "outputs": [],
   "source": [
    "We will declare two varible to save the numbers\n",
    "num1=int(input(\"Enter your first Number\"))\n",
    "num2=int(input(\"Enter your second Number\"))\n",
    "# will add the numbers and save the result in a new varible\n",
    "sum = num1 + num2 \n",
    "# will print the result on screen\n",
    "print(\"The sum of\", num1 , \"and\", num2, \" is : \" , sum)"
   ]
  },
  {
   "cell_type": "code",
   "execution_count": 44,
   "id": "cf336bc4",
   "metadata": {},
   "outputs": [
    {
     "name": "stdout",
     "output_type": "stream",
     "text": [
      "Enter your first Number5\n",
      "Enter your second Number5\n",
      "The sum of 5 and 5  is :  10\n"
     ]
    }
   ],
   "source": [
    "\n",
    "# Talk about the code block\n",
    "\n",
    "Step1:Start\n",
    "Step2: Declare variable to hold the number x  and another one to hold the result\n",
    "Step3: Ask your user to enter the numbers\n",
    "Step4: take mod of 2 for the number x and save it in a variable result\n",
    "Step5: We will compare the result against 0 \n",
    "Step6: if the result is zero we will print even\n",
    "Step7: else we will print odd\n",
    "End"
   ]
  },
  {
   "cell_type": "code",
   "execution_count": 47,
   "id": "b85722b6",
   "metadata": {},
   "outputs": [
    {
     "name": "stdout",
     "output_type": "stream",
     "text": [
      "Enter your first Number5\n",
      "Enter your second Number6\n",
      "The product of 5 and 6  is :  30\n"
     ]
    }
   ],
   "source": [
    "num1=int(input(\"Enter your first Number\"))\n",
    "num2=int(input(\"Enter your second Number\"))\n",
    "# will multiply the numbers and save the result in a new varible\n",
    "result = num1 * num2 \n",
    "# will print the result on screen\n",
    "print(\"The product of\", num1 , \"and\", num2, \" is : \" , result)"
   ]
  }
 ],
 "metadata": {
  "kernelspec": {
   "display_name": "Python 3 (ipykernel)",
   "language": "python",
   "name": "python3"
  },
  "language_info": {
   "codemirror_mode": {
    "name": "ipython",
    "version": 3
   },
   "file_extension": ".py",
   "mimetype": "text/x-python",
   "name": "python",
   "nbconvert_exporter": "python",
   "pygments_lexer": "ipython3",
   "version": "3.11.5"
  }
 },
 "nbformat": 4,
 "nbformat_minor": 5
}
