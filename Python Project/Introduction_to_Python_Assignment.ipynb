{
 "cells": [
  {
   "cell_type": "markdown",
   "id": "da9a4f97",
   "metadata": {},
   "source": [
    "### Task 1 : Create variables for the following information: • Your full name • Your age • Your favourite number (use an integer) Print each variable with an appropriate label"
   ]
  },
  {
   "cell_type": "code",
   "execution_count": 2,
   "id": "f926dcb5",
   "metadata": {},
   "outputs": [
    {
     "name": "stdout",
     "output_type": "stream",
     "text": [
      "Enter your first Name : Nazneen\n",
      "Enter your last Name :Kausar\n",
      "Nazneen Kausar\n",
      "Enter your age : 36\n",
      "36\n",
      "Enter your favourite number : 100\n"
     ]
    }
   ],
   "source": [
    "first_name=input(\"Enter your first Name : \")\n",
    "last_name=input(\"Enter your last Name :\")\n",
    "fullname=first +\" \" + last\n",
    "print(fullname)\n",
    "age=int(input(\"Enter your age : \"))\n",
    "print(age)\n",
    "favourite_number=input(\"Enter your favourite number : \")"
   ]
  },
  {
   "cell_type": "markdown",
   "id": "8b88345e",
   "metadata": {},
   "source": [
    "### Task 2 : Write a Python program to calculate the area of a rectangle given its length and width. "
   ]
  },
  {
   "cell_type": "code",
   "execution_count": 3,
   "id": "57576dfd",
   "metadata": {},
   "outputs": [
    {
     "name": "stdout",
     "output_type": "stream",
     "text": [
      "Enter the length of the rectangle: 4\n",
      "Enter the breadth of the rectangle: 4\n",
      "area of a rectangle is : \n",
      "16.0\n"
     ]
    }
   ],
   "source": [
    "#Area of a Rectangle = length*breadth\n",
    "length = float(input(\"Enter the length of the rectangle: \"))\n",
    "breadth = float(input(\"Enter the breadth of the rectangle: \"))\n",
    "print(\"area of a rectangle is : \")\n",
    "area_of_a_rectangle = input((length*breadth))\n",
    "\n"
   ]
  },
  {
   "cell_type": "markdown",
   "id": "d2d99bc5",
   "metadata": {},
   "source": [
    "### Task 3 :Write a Python program which accepts the radius of a circle from the user and compute the area."
   ]
  },
  {
   "cell_type": "code",
   "execution_count": 22,
   "id": "c4dca022",
   "metadata": {},
   "outputs": [
    {
     "name": "stdout",
     "output_type": "stream",
     "text": [
      "Enter the radius: 5\n",
      "area of  a circle is: \n",
      "78.5\n"
     ]
    }
   ],
   "source": [
    "#Area of a circle= 3.14*r*r\n",
    "radius = float(input(\"Enter the radius: \"))\n",
    "print(\"area of  a circle is: \")\n",
    "area_of_a_circle = input(3.14*radius**2)\n"
   ]
  },
  {
   "cell_type": "markdown",
   "id": "3551acba",
   "metadata": {},
   "source": [
    "### Task 4 : Convert temperature from 5 Degree Celsius to Fahrenheit F=59×C+32"
   ]
  },
  {
   "cell_type": "code",
   "execution_count": 7,
   "id": "102b94d4",
   "metadata": {},
   "outputs": [
    {
     "name": "stdout",
     "output_type": "stream",
     "text": [
      "Enter the temperature in Degree Celsius:5\n",
      "The temperature in Fahrenheit is 327.0\n"
     ]
    }
   ],
   "source": [
    "#F=59*C+32\n",
    "celsius = float(input(\"Enter the temperature in Degree Celsius:\"))\n",
    "fahrenheit= 59*celsius+32\n",
    "print(\"The temperature in Fahrenheit is\", fahrenheit)"
   ]
  },
  {
   "cell_type": "markdown",
   "id": "ce026e2f",
   "metadata": {},
   "source": [
    "### Task 5 : Implement a program that converts a given number from a user of minutes into hours and minutes"
   ]
  },
  {
   "cell_type": "code",
   "execution_count": 27,
   "id": "f035b7dc",
   "metadata": {},
   "outputs": [
    {
     "name": "stdout",
     "output_type": "stream",
     "text": [
      "Enter number :80\n",
      "Hours:  1.0  Minutes :  20.0\n"
     ]
    }
   ],
   "source": [
    "num1=float(input(\"Enter number :\"))\n",
    "hours=num1//60\n",
    "minutes=num1%60\n",
    "# Convert number to hour\n",
    " \n",
    "sum = num1/ 60\n",
    " \n",
    "# will print the result on screen\n",
    " \n",
    "print(\"Hours: \"  , hours , \" Minutes : \" , minutes)"
   ]
  },
  {
   "cell_type": "markdown",
   "id": "a67ea8ea",
   "metadata": {},
   "source": [
    "### Task 6 :convert values entered by user from mile to km or from km to mile"
   ]
  },
  {
   "cell_type": "code",
   "execution_count": 10,
   "id": "8d12cb03",
   "metadata": {},
   "outputs": [
    {
     "name": "stdout",
     "output_type": "stream",
     "text": [
      "Enter the ditance in miles:86\n",
      "This is equivalent to 138.374 km\n"
     ]
    }
   ],
   "source": [
    "d=float(input(\"Enter the ditance in miles:\"))\n",
    "k=d*1.609\n",
    "print(\"This is equivalent to\",k,\"km\")"
   ]
  },
  {
   "cell_type": "markdown",
   "id": "9b0d452f",
   "metadata": {},
   "source": [
    "### Task 7 : Request the user to input a distance and the time taken to cover that distance. Calculate and print the speed using the formula : Speed = distance / time"
   ]
  },
  {
   "cell_type": "code",
   "execution_count": 12,
   "id": "4440694d",
   "metadata": {},
   "outputs": [
    {
     "name": "stdout",
     "output_type": "stream",
     "text": [
      "Enter the time in hours:5\n",
      "Enter the distance in metres:10\n",
      "The speed is 2.0 m/s\n"
     ]
    }
   ],
   "source": [
    "time=float(input(\"Enter the time in hours:\"))\n",
    "distance=float(input(\"Enter the distance in metres:\"))\n",
    "speed= distance / time\n",
    "print(\"The speed is\",speed,\"m/s\")"
   ]
  },
  {
   "cell_type": "markdown",
   "id": "7c988764",
   "metadata": {},
   "source": [
    "### Task 8 :Ask the user to input an amount in one currency and convert it into another currency"
   ]
  },
  {
   "cell_type": "code",
   "execution_count": 29,
   "id": "7e0aeacd",
   "metadata": {},
   "outputs": [
    {
     "name": "stdout",
     "output_type": "stream",
     "text": [
      "Enter the amount in GBP:10\n",
      "The currency is equal to 1048.0 INR\n"
     ]
    }
   ],
   "source": [
    "pounds=float(input(\"Enter the amount in GBP:\"))\n",
    "rupees=pounds*104.8\n",
    "print(\"The currency is equal to\",rupees,\"INR\")"
   ]
  },
  {
   "cell_type": "markdown",
   "id": "a57586fe",
   "metadata": {},
   "source": [
    "### Task 9 : Write a program that calculates the compound interest using the formula"
   ]
  },
  {
   "cell_type": "markdown",
   "id": "1b75a418",
   "metadata": {},
   "source": [
    "Write a program that calculates the compound interest using the\n",
    "formula:\n",
    "𝐴 = 𝑃 (1 +\n",
    "𝑟\n",
    "𝑛\n",
    ")\n",
    "𝑛𝑡\n",
    "A = Future Value,\n",
    "P = Principal Amount\n",
    "r = Annual interest rate\n",
    "n = Number of times interest is compounded per year\n",
    "t = Time in years"
   ]
  },
  {
   "cell_type": "code",
   "execution_count": 26,
   "id": "d1ddadfd",
   "metadata": {},
   "outputs": [
    {
     "name": "stdout",
     "output_type": "stream",
     "text": [
      "Enter the principal amount=3000\n",
      "Enter the anuual interest rate=5\n",
      "Enter the Number of times interest is compounded per year=10\n",
      "Enter the Time in years=5\n",
      "Future value= 864975.5859375\n"
     ]
    }
   ],
   "source": [
    "p=float(input(\"Enter the principal amount=\"))\n",
    "r=float(input(\"Enter the anuual interest rate=\"))\n",
    "n=float(input(\"Enter the Number of times interest is compounded per year=\"))\n",
    "t=float(input(\"Enter the Time in years=\"))\n",
    " \n",
    "A= p*(1+(r/n))**n*t\n",
    "print(\"Future value=\",A)\n"
   ]
  },
  {
   "cell_type": "markdown",
   "id": "9cf29c3f",
   "metadata": {},
   "source": [
    "### Task 10 : Prompt the user to enter an integer. Determine whether the entered number is odd or even and display the result"
   ]
  },
  {
   "cell_type": "code",
   "execution_count": 32,
   "id": "beb04abd",
   "metadata": {},
   "outputs": [
    {
     "name": "stdout",
     "output_type": "stream",
     "text": [
      "Please enter an integer:66\n",
      "The number is even\n"
     ]
    }
   ],
   "source": [
    "num=int(input(\"Please enter an integer:\"))\n",
    "if (num%2)==0:\n",
    "    print(\"The number is even\")\n",
    "else:\n",
    "    print(\"The number is odd\")"
   ]
  }
 ],
 "metadata": {
  "kernelspec": {
   "display_name": "Python 3 (ipykernel)",
   "language": "python",
   "name": "python3"
  },
  "language_info": {
   "codemirror_mode": {
    "name": "ipython",
    "version": 3
   },
   "file_extension": ".py",
   "mimetype": "text/x-python",
   "name": "python",
   "nbconvert_exporter": "python",
   "pygments_lexer": "ipython3",
   "version": "3.11.5"
  }
 },
 "nbformat": 4,
 "nbformat_minor": 5
}
